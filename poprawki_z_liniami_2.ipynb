{
 "cells": [
  {
   "cell_type": "code",
   "execution_count": 1,
   "id": "d2672028",
   "metadata": {},
   "outputs": [],
   "source": [
    "from platform import python_version\n",
    "import matplotlib.pyplot as plt\n",
    "import pandas as pd\n",
    "import numpy as np\n",
    "import math\n",
    "\n",
    "\n",
    "def rysuj_wykres(punkty):\n",
    "    plt.plot(punkty['x'], punkty['y'], 'o')\n",
    "    plt.xlabel(\"x\")\n",
    "    plt.ylabel(\"y\")\n",
    "    plt.grid(True)\n",
    "    plt.axhline(y=0, color=\"black\")\n",
    "    plt.axvline(color=\"black\")\n",
    "\n",
    "    if np.max(punkty['y']) > np.max(punkty['x']):\n",
    "        plt.ylim(np.min(punkty['y'])-5, np.max(punkty['y'])+5)\n",
    "        plt.xlim(np.min(punkty['y'])-5, np.max(punkty['y'])+5)\n",
    "    else:\n",
    "        plt.ylim(np.min(punkty['x'])-5, np.max(punkty['x'])+5)\n",
    "        plt.xlim(np.min(punkty['x'])-5, np.max(punkty['x'])+5)\n",
    "\n",
    "    for i, x in enumerate(punkty.values):\n",
    "        #print(i,x)\n",
    "        plt.annotate(i, x[0:2])\n",
    "\n",
    "    # plt.show()\n",
    "\n",
    "\n",
    "def na_lewo(A, B, C):\n",
    "    Ax = A[0]\n",
    "    Ay = A[1]\n",
    "    Bx = B[0]\n",
    "    By = B[1]\n",
    "    Cx = C[0]\n",
    "    Cy = C[1]\n",
    "    print('Ax: ', Ax, ' Ay: ', Ay, ' Bx: ', Bx,\n",
    "          '  By: ', By, ' Cx: ', Cx, '  Cy : ', Cy)\n",
    "    odejmowanie1 = (Cx-Bx)\n",
    "    odejmowanie2 = (Ay-By)\n",
    "    odejmowanie3 = (Ax-Bx)\n",
    "    odejmowanie4 = (Cy-By)\n",
    "\n",
    "    mnozenie1 = odejmowanie1*odejmowanie2\n",
    "    mnozenie2 = odejmowanie3*odejmowanie4\n",
    "\n",
    "    rownanie = mnozenie1-mnozenie2\n",
    "    #wzor((Cx-Bx)*(Ay-By))-((Ax-Bx)*(Cy-By))\n",
    "\n",
    "    print('wynik rownania: ', rownanie)\n",
    "\n",
    "    if(rownanie > 0):\n",
    "        print('na lewo')\n",
    "        return True\n",
    "    if(rownanie < 0):\n",
    "        print('na prawo')\n",
    "        return False\n",
    "    if(rownanie == 0):\n",
    "        print('blad')\n",
    "        return 'blad'\n",
    "\n",
    "#na_lewo([-2.0, -20.0],[-2.0, -20.0],[-2.0, -20.0])\n",
    "\n",
    "\n",
    "def rysuj_otoczke(punkty, zbior_cosinusow):\n",
    "    plt.xlabel(\"x\")\n",
    "    plt.ylabel(\"y\")\n",
    "    plt.grid(True)\n",
    "    plt.axhline(y=0, color=\"black\")\n",
    "    plt.axvline(color=\"black\")\n",
    "\n",
    "    if len(punkty) == 1:\n",
    "        plt.plot(punkty['x'], punkty['y'])\n",
    "        for i, x in enumerate(punkty.values):\n",
    "            plt.annotate(i, x[0:2])\n",
    "        wspolrzedne = x[0:2]\n",
    "        tytul = 'Otoczką jest punkt o współrzędnych: ' + \\\n",
    "            str(wspolrzedne[0])+', '+str(wspolrzedne[1])\n",
    "        plt.title(tytul)\n",
    "        return 1\n",
    "\n",
    "    if len(punkty) == 2:\n",
    "        plt.plot(punkty['x'], punkty['y'])\n",
    "        tytul = 'Otoczką jest odcinek 01: '\n",
    "        for i, x in enumerate(punkty.values):\n",
    "            plt.annotate(i, x[0:2])\n",
    "            wspolrzedne = x[0:2]\n",
    "            if i == 0:\n",
    "                tytul = tytul + \\\n",
    "                    str(i)+'('+str(wspolrzedne[0])+', '+str(wspolrzedne[1])+')'\n",
    "            else:\n",
    "                tytul = tytul+', ' + \\\n",
    "                    str(i)+'('+str(wspolrzedne[0])+', '+str(wspolrzedne[1])+')'\n",
    "        plt.title(tytul)\n",
    "        return 1\n",
    "\n",
    "    if len(punkty) == 3:\n",
    "        plt.plot(punkty['x'], punkty['y'])\n",
    "        for i, x in enumerate(punkty.values):\n",
    "            plt.annotate(i, x[0:2])\n",
    "        wspolrzedne = x[0:2]\n",
    "        tytul = 'Otoczką jest trojkąt'\n",
    "        plt.title(tytul)\n",
    "\n",
    "    pierwszy_punkt = punkty.iloc[0]\n",
    "    d = [{'x': punkty['x'][0], 'y': punkty['y'][0]}]\n",
    "    dodaj_na_koniec = pd.DataFrame(d)\n",
    "    linie = pd.concat([punkty, dodaj_na_koniec], ignore_index=True)\n",
    "    plt.plot(linie['x'], linie['y'])\n",
    "    plt.plot(zbior_cosinusow['x'], zbior_cosinusow['y'], 'o')\n",
    "\n",
    "    if np.max(punkty['y']) > np.max(punkty['x']):\n",
    "        plt.ylim(np.min(punkty['y'])-5, np.max(punkty['y'])+5)\n",
    "        plt.xlim(np.min(punkty['y'])-5, np.max(punkty['y'])+5)\n",
    "    else:\n",
    "        plt.ylim(np.min(punkty['x'])-5, np.max(punkty['x'])+5)\n",
    "        plt.xlim(np.min(punkty['x'])-5, np.max(punkty['x'])+5)\n",
    "\n",
    "    for i, x in enumerate(punkty.values):\n",
    "        print(i, x)\n",
    "        plt.annotate(i, x[0:2])\n",
    "\n",
    "    ilosc_punktow = len(punkty)\n",
    "    tytul = 'Otoczką jest wielokąt o ilości boków: '+str(ilosc_punktow)\n",
    "    plt.title(tytul)\n",
    "    #print(len(punkty))\n",
    "\n",
    "    plt.show()\n"
   ]
  },
  {
   "cell_type": "code",
   "execution_count": 2,
   "id": "758e8055",
   "metadata": {},
   "outputs": [
    {
     "data": {
      "text/html": [
       "<div>\n",
       "<style scoped>\n",
       "    .dataframe tbody tr th:only-of-type {\n",
       "        vertical-align: middle;\n",
       "    }\n",
       "\n",
       "    .dataframe tbody tr th {\n",
       "        vertical-align: top;\n",
       "    }\n",
       "\n",
       "    .dataframe thead th {\n",
       "        text-align: right;\n",
       "    }\n",
       "</style>\n",
       "<table border=\"1\" class=\"dataframe\">\n",
       "  <thead>\n",
       "    <tr style=\"text-align: right;\">\n",
       "      <th></th>\n",
       "      <th>x</th>\n",
       "      <th>y</th>\n",
       "    </tr>\n",
       "  </thead>\n",
       "  <tbody>\n",
       "    <tr>\n",
       "      <th>0</th>\n",
       "      <td>0.0</td>\n",
       "      <td>0</td>\n",
       "    </tr>\n",
       "    <tr>\n",
       "      <th>1</th>\n",
       "      <td>10.0</td>\n",
       "      <td>0</td>\n",
       "    </tr>\n",
       "    <tr>\n",
       "      <th>2</th>\n",
       "      <td>10.0</td>\n",
       "      <td>10</td>\n",
       "    </tr>\n",
       "    <tr>\n",
       "      <th>3</th>\n",
       "      <td>0.0</td>\n",
       "      <td>10</td>\n",
       "    </tr>\n",
       "    <tr>\n",
       "      <th>4</th>\n",
       "      <td>12.5</td>\n",
       "      <td>5</td>\n",
       "    </tr>\n",
       "  </tbody>\n",
       "</table>\n",
       "</div>"
      ],
      "text/plain": [
       "      x   y\n",
       "0   0.0   0\n",
       "1  10.0   0\n",
       "2  10.0  10\n",
       "3   0.0  10\n",
       "4  12.5   5"
      ]
     },
     "execution_count": 2,
     "metadata": {},
     "output_type": "execute_result"
    }
   ],
   "source": [
    "punkty = pd.read_csv('punkty1.csv')\n",
    "punkty"
   ]
  },
  {
   "cell_type": "code",
   "execution_count": 3,
   "id": "b3b733be",
   "metadata": {},
   "outputs": [
    {
     "data": {
      "image/png": "[encoded data removed]",
      "text/plain": [
       "<Figure size 432x288 with 1 Axes>"
      ]
     },
     "metadata": {
      "needs_background": "light"
     },
     "output_type": "display_data"
    }
   ],
   "source": [
    "rysuj_wykres(punkty)"
   ]
  },
  {
   "cell_type": "code",
   "execution_count": 4,
   "id": "86de68d2",
   "metadata": {},
   "outputs": [
    {
     "data": {
      "text/html": [
       "<div>\n",
       "<style scoped>\n",
       "    .dataframe tbody tr th:only-of-type {\n",
       "        vertical-align: middle;\n",
       "    }\n",
       "\n",
       "    .dataframe tbody tr th {\n",
       "        vertical-align: top;\n",
       "    }\n",
       "\n",
       "    .dataframe thead th {\n",
       "        text-align: right;\n",
       "    }\n",
       "</style>\n",
       "<table border=\"1\" class=\"dataframe\">\n",
       "  <thead>\n",
       "    <tr style=\"text-align: right;\">\n",
       "      <th></th>\n",
       "      <th>x</th>\n",
       "      <th>y</th>\n",
       "    </tr>\n",
       "  </thead>\n",
       "  <tbody>\n",
       "    <tr>\n",
       "      <th>0</th>\n",
       "      <td>0.0</td>\n",
       "      <td>0</td>\n",
       "    </tr>\n",
       "    <tr>\n",
       "      <th>1</th>\n",
       "      <td>10.0</td>\n",
       "      <td>0</td>\n",
       "    </tr>\n",
       "    <tr>\n",
       "      <th>2</th>\n",
       "      <td>12.5</td>\n",
       "      <td>5</td>\n",
       "    </tr>\n",
       "    <tr>\n",
       "      <th>3</th>\n",
       "      <td>10.0</td>\n",
       "      <td>10</td>\n",
       "    </tr>\n",
       "    <tr>\n",
       "      <th>4</th>\n",
       "      <td>0.0</td>\n",
       "      <td>10</td>\n",
       "    </tr>\n",
       "  </tbody>\n",
       "</table>\n",
       "</div>"
      ],
      "text/plain": [
       "      x   y\n",
       "0   0.0   0\n",
       "1  10.0   0\n",
       "2  12.5   5\n",
       "3  10.0  10\n",
       "4   0.0  10"
      ]
     },
     "execution_count": 4,
     "metadata": {},
     "output_type": "execute_result"
    }
   ],
   "source": [
    "#sortowanie po x\n",
    "posortowane_y=punkty.copy().sort_values(by=['y'],ignore_index=True)\n",
    "\n",
    "ilosc_y=posortowane_y[posortowane_y['y']==posortowane_y['y'][0]]\n",
    "\n",
    "#jesli wiecej niz jedna wartosc\n",
    "#print(ilosc_y)\n",
    "\n",
    "if len(ilosc_y)==1:\n",
    "    posortowany_zbior=posortowane_y\n",
    "else:\n",
    "    posortowane_powtorzenia=posortowane_y.copy().sort_values(by=['x'],ignore_index=True)\n",
    "    #zamienianie posortowanych\n",
    "    zduplikowany_zbior=pd.concat([ilosc_y, posortowane_y], axis=0, ignore_index=False)\n",
    "    #usun zduplikowane\n",
    "    posortowany_zbior=zduplikowany_zbior.drop_duplicates()\n",
    "    \n",
    "posortowany_zbior=posortowany_zbior.drop_duplicates()\n",
    "posortowany_zbior"
   ]
  },
  {
   "cell_type": "code",
   "execution_count": 5,
   "id": "8e3834d8",
   "metadata": {},
   "outputs": [
    {
     "data": {
      "image/png": "[encoded data removed]",
      "text/plain": [
       "<Figure size 432x288 with 1 Axes>"
      ]
     },
     "metadata": {
      "needs_background": "light"
     },
     "output_type": "display_data"
    }
   ],
   "source": [
    "rysuj_wykres(posortowany_zbior)"
   ]
  },
  {
   "cell_type": "code",
   "execution_count": 6,
   "id": "4ee542a5",
   "metadata": {},
   "outputs": [
    {
     "name": "stdout",
     "output_type": "stream",
     "text": [
      "      x   y       cos  duplicate_cos\n",
      "0   0.0   0  1.010000              0\n",
      "1  10.0   0  1.000000              0\n",
      "2  12.5   5  0.928477              0\n",
      "3  10.0  10  0.707107              0\n",
      "4   0.0  10  0.000000              0\n"
     ]
    },
    {
     "data": {
      "text/html": [
       "<div>\n",
       "<style scoped>\n",
       "    .dataframe tbody tr th:only-of-type {\n",
       "        vertical-align: middle;\n",
       "    }\n",
       "\n",
       "    .dataframe tbody tr th {\n",
       "        vertical-align: top;\n",
       "    }\n",
       "\n",
       "    .dataframe thead th {\n",
       "        text-align: right;\n",
       "    }\n",
       "</style>\n",
       "<table border=\"1\" class=\"dataframe\">\n",
       "  <thead>\n",
       "    <tr style=\"text-align: right;\">\n",
       "      <th></th>\n",
       "      <th>x</th>\n",
       "      <th>y</th>\n",
       "      <th>cos</th>\n",
       "      <th>duplicate_cos</th>\n",
       "    </tr>\n",
       "  </thead>\n",
       "  <tbody>\n",
       "    <tr>\n",
       "      <th>0</th>\n",
       "      <td>0.0</td>\n",
       "      <td>0</td>\n",
       "      <td>1.010000</td>\n",
       "      <td>0</td>\n",
       "    </tr>\n",
       "    <tr>\n",
       "      <th>1</th>\n",
       "      <td>10.0</td>\n",
       "      <td>0</td>\n",
       "      <td>1.000000</td>\n",
       "      <td>0</td>\n",
       "    </tr>\n",
       "    <tr>\n",
       "      <th>2</th>\n",
       "      <td>12.5</td>\n",
       "      <td>5</td>\n",
       "      <td>0.928477</td>\n",
       "      <td>0</td>\n",
       "    </tr>\n",
       "    <tr>\n",
       "      <th>3</th>\n",
       "      <td>10.0</td>\n",
       "      <td>10</td>\n",
       "      <td>0.707107</td>\n",
       "      <td>0</td>\n",
       "    </tr>\n",
       "    <tr>\n",
       "      <th>4</th>\n",
       "      <td>0.0</td>\n",
       "      <td>10</td>\n",
       "      <td>0.000000</td>\n",
       "      <td>0</td>\n",
       "    </tr>\n",
       "  </tbody>\n",
       "</table>\n",
       "</div>"
      ],
      "text/plain": [
       "      x   y       cos  duplicate_cos\n",
       "0   0.0   0  1.010000              0\n",
       "1  10.0   0  1.000000              0\n",
       "2  12.5   5  0.928477              0\n",
       "3  10.0  10  0.707107              0\n",
       "4   0.0  10  0.000000              0"
      ]
     },
     "execution_count": 6,
     "metadata": {},
     "output_type": "execute_result"
    }
   ],
   "source": [
    "S=posortowany_zbior.iloc[0]\n",
    "lista_cosinusow=[1.01]\n",
    "\n",
    "for i in posortowany_zbior[1:].values:\n",
    "    Sx=S[0]\n",
    "    Sy=S[1]\n",
    "    Xx=i[0]\n",
    "    Xy=i[1]\n",
    "\n",
    "    #print('punkty: ',Sx,Sy,Xx,Xy)\n",
    "\n",
    "    licznik=(Xx-Sx)\n",
    "    rownanie=(Xx**2+((-2)*Xx*Sx)+Sx**2+Xy**2+((-2)*Xy*Sy)+Sy**2)\n",
    "    mianownik=math.sqrt(rownanie)\n",
    "\n",
    "\n",
    "    cos_alfa=licznik/mianownik\n",
    "    #print('Cosinus:', cos_alfa)\n",
    "    lista_cosinusow.append(cos_alfa)\n",
    "    cosinusy=pd.DataFrame(lista_cosinusow, columns=['cos'])\n",
    "    \n",
    "#mergowanie\n",
    "if(len(posortowany_zbior)>1):\n",
    "    zmergowany_zbior= pd.merge(posortowany_zbior,cosinusy,left_index=True,right_index=True)\n",
    "else:\n",
    "    cosinusy=pd.DataFrame(lista_cosinusow, columns=['cos'])\n",
    "    zmergowany_zbior= pd.merge(posortowany_zbior,cosinusy,left_index=True,right_index=True)\n",
    "\n",
    "#sortowanie\n",
    "zbior_cosinusow=zmergowany_zbior.sort_values(by=['cos','x'],ignore_index=True,ascending=False)\n",
    "\n",
    "#powtorzenia\n",
    "#zbior_cosinusow=zbior_cosinusow[zbior_cosinusow['cos']==zbior_cosinusow['cos']]\n",
    "\n",
    "#zbior_cosinusow['duplicate'] = zbior_cosinusow.groupby('cos')['cos'].cumcount()\n",
    "#zbior_cosinusow.sort_values(by=['duplicate', 'x'], inplace=True)\n",
    "#df = zbior_cosinusow.duplicated(subset=['cos'])\n",
    "#zbior_cosinusow=zbior_cosinusow.sort_values(by=['cos','C'],ignore_index=True,ascending=False)\n",
    "lista_powtorzen=[]\n",
    "\n",
    "    \n",
    "#lista_powtorzen\n",
    "\n",
    "zbior_cosinusow['cos']=zbior_cosinusow['cos'].apply(lambda x: np.round(x,6))\n",
    "\n",
    "#zbior_cosinusow=zbior_cosinusow['cos'].round(decimals = 2)\n",
    "zbior_cosinusow['duplicate_cos'] = zbior_cosinusow.groupby('cos')['x'].cumcount()\n",
    "\n",
    "\n",
    "print(zbior_cosinusow)\n",
    "\n",
    "for i,x in enumerate(zbior_cosinusow.values):\n",
    "    pomoc=zbior_cosinusow.iloc[i]\n",
    "    if float(x[3])!=float(0):\n",
    "        print(x[3])\n",
    "        zbior_cosinusow.iloc[i]=zbior_cosinusow.iloc[i-1]\n",
    "        zbior_cosinusow.iloc[i-1]=pomoc\n",
    "\n",
    "zbior_cosinusow"
   ]
  },
  {
   "cell_type": "code",
   "execution_count": 7,
   "id": "f293e43c",
   "metadata": {},
   "outputs": [
    {
     "data": {
      "image/png": "[encoded data removed]",
      "text/plain": [
       "<Figure size 432x288 with 1 Axes>"
      ]
     },
     "metadata": {
      "needs_background": "light"
     },
     "output_type": "display_data"
    }
   ],
   "source": [
    "rysuj_wykres(zbior_cosinusow)"
   ]
  },
  {
   "cell_type": "code",
   "execution_count": 8,
   "id": "11da1af1",
   "metadata": {},
   "outputs": [
    {
     "name": "stdout",
     "output_type": "stream",
     "text": [
      "CH:  [[0.0, 0.0], [10.0, 0.0], [12.5, 5.0]]\n",
      "[[0.0, 0.0], [10.0, 0.0], [12.5, 5.0]] 3\n",
      "Ax:  12.5  Ay:  5.0  Bx:  0.0   By:  0.0  Cx:  10.0   Cy :  0.0\n",
      "wynik rownania:  50.0\n",
      "na lewo\n",
      "[[0.0, 0.0], [10.0, 0.0], [12.5, 5.0], [10.0, 10.0]] 4\n",
      "Ax:  10.0  Ay:  10.0  Bx:  10.0   By:  0.0  Cx:  12.5   Cy :  5.0\n",
      "wynik rownania:  25.0\n",
      "na lewo\n"
     ]
    },
    {
     "data": {
      "text/plain": [
       "[[0.0, 0.0], [10.0, 0.0], [12.5, 5.0], [10.0, 10.0], [0.0, 10.0]]"
      ]
     },
     "execution_count": 8,
     "metadata": {},
     "output_type": "execute_result"
    }
   ],
   "source": [
    "#stos próba 3\n",
    "\n",
    "CH=[]\n",
    "for i in zbior_cosinusow[0:2].values:\n",
    "    CH.append([i[0],i[1]])\n",
    "    \n",
    "if len(zbior_cosinusow)>2:\n",
    "\n",
    "    CH.append([zbior_cosinusow.iloc[2]['x'],zbior_cosinusow.iloc[2]['y']])\n",
    "\n",
    "    print('CH: ',CH)\n",
    "\n",
    "    i=3\n",
    "    n=len(zbior_cosinusow)\n",
    "\n",
    "\n",
    "    for i in range(i,n):\n",
    "\n",
    "        print(CH, i)\n",
    "        czy_na_lewo=na_lewo(CH[-1],CH[-3],CH[-2])\n",
    "        while (czy_na_lewo==False or czy_na_lewo=='blad'):\n",
    "            czy_na_lewo=na_lewo(CH[-1],CH[-3],CH[-2])\n",
    "            if czy_na_lewo==True:\n",
    "                break\n",
    "            if(czy_na_lewo!='blad'):\n",
    "                usuwam=CH.pop(-2)\n",
    "                print('Usuwam ', usuwam)\n",
    "            if(czy_na_lewo=='blad'):\n",
    "                usuwam=CH.pop(-3)\n",
    "                print('Usuwam ', usuwam)\n",
    "        CH.append([zbior_cosinusow.iloc[i]['x'],zbior_cosinusow.iloc[i]['y']])\n",
    "    \n",
    "    \n",
    "CH"
   ]
  },
  {
   "cell_type": "code",
   "execution_count": 9,
   "id": "d3498f15",
   "metadata": {},
   "outputs": [
    {
     "name": "stdout",
     "output_type": "stream",
     "text": [
      "[0.0, 0.0]\n",
      "[10.0, 0.0]\n",
      "[12.5, 5.0]\n",
      "[10.0, 10.0]\n",
      "[0.0, 10.0]\n"
     ]
    }
   ],
   "source": [
    "for i in enumerate(CH):\n",
    "    print(i[1])\n",
    "\n",
    "otoczka=pd.DataFrame(CH, columns=['x','y'],)\n",
    "otoczka=otoczka.drop_duplicates()"
   ]
  },
  {
   "cell_type": "code",
   "execution_count": 10,
   "id": "a82d6e94",
   "metadata": {},
   "outputs": [
    {
     "data": {
      "image/png": "[encoded data removed]",
      "text/plain": [
       "<Figure size 432x288 with 1 Axes>"
      ]
     },
     "metadata": {
      "needs_background": "light"
     },
     "output_type": "display_data"
    },
    {
     "data": {
      "image/png": "[encoded data removed]",
      "text/plain": [
       "<Figure size 432x288 with 1 Axes>"
      ]
     },
     "metadata": {
      "needs_background": "light"
     },
     "output_type": "display_data"
    }
   ],
   "source": [
    "rysuj_wykres(otoczka)\n",
    "rysuj_wykres(zbior_cosinusow)"
   ]
  },
  {
   "cell_type": "code",
   "execution_count": 11,
   "id": "1e1cc711",
   "metadata": {},
   "outputs": [
    {
     "name": "stdout",
     "output_type": "stream",
     "text": [
      "0 [0. 0.]\n",
      "1 [10.  0.]\n",
      "2 [12.5  5. ]\n",
      "3 [10. 10.]\n",
      "4 [ 0. 10.]\n"
     ]
    },
    {
     "data": {
      "image/png": "[encoded data removed]",
      "text/plain": [
       "<Figure size 432x288 with 1 Axes>"
      ]
     },
     "metadata": {
      "needs_background": "light"
     },
     "output_type": "display_data"
    },
    {
     "data": {
      "image/png": "[encoded data removed]",
      "text/plain": [
       "<Figure size 432x288 with 1 Axes>"
      ]
     },
     "metadata": {
      "needs_background": "light"
     },
     "output_type": "display_data"
    }
   ],
   "source": [
    "rysuj_otoczke(otoczka,zbior_cosinusow)\n",
    "rysuj_wykres(zbior_cosinusow)"
   ]
  },
  {
   "cell_type": "code",
   "execution_count": null,
   "id": "76cb54f3",
   "metadata": {},
   "outputs": [],
   "source": []
  },
  {
   "cell_type": "code",
   "execution_count": null,
   "id": "0334c1cd",
   "metadata": {},
   "outputs": [],
   "source": []
  }
 ],
 "metadata": {
  "kernelspec": {
   "display_name": "Python 3 (ipykernel)",
   "language": "python",
   "name": "python3"
  },
  "language_info": {
   "codemirror_mode": {
    "name": "ipython",
    "version": 3
   },
   "file_extension": ".py",
   "mimetype": "text/x-python",
   "name": "python",
   "nbconvert_exporter": "python",
   "pygments_lexer": "ipython3",
   "version": "3.9.7"
  }
 },
 "nbformat": 4,
 "nbformat_minor": 5
}
